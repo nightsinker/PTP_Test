{
 "cells": [
  {
   "cell_type": "code",
   "execution_count": null,
   "metadata": {},
   "outputs": [],
   "source": [
    "#Qn4"
   ]
  },
  {
   "cell_type": "code",
   "execution_count": 1,
   "metadata": {},
   "outputs": [],
   "source": [
    "class UserMainCode(object):\n",
    "    @classmethod\n",
    "    def Books(cls, input1, input2, input3, input4):\n",
    "        n = input1\n",
    "        t_limit = input2\n",
    "        points = input3\n",
    "        times = input4\n",
    "\n",
    "        dp = [0] * (t_limit + 1)\n",
    "\n",
    "        for i in range(n):\n",
    "            for j in range(t_limit, times[i] - 1, -1):\n",
    "                dp[j] = max(dp[j], dp[j - times[i]] + points[i])\n",
    "\n",
    "        return dp[t_limit]"
   ]
  },
  {
   "cell_type": "code",
   "execution_count": 2,
   "metadata": {},
   "outputs": [
    {
     "name": "stdout",
     "output_type": "stream",
     "text": [
      "11\n"
     ]
    }
   ],
   "source": [
    "# Example 1\n",
    "n = 3\n",
    "t_limit = 7\n",
    "points = [2, 6, 9]\n",
    "times = [3, 5, 3]\n",
    "result = UserMainCode.Books(n, t_limit, points, times)\n",
    "print(result)  # This should print 11"
   ]
  }
 ],
 "metadata": {
  "kernelspec": {
   "display_name": "Python 3",
   "language": "python",
   "name": "python3"
  },
  "language_info": {
   "codemirror_mode": {
    "name": "ipython",
    "version": 3
   },
   "file_extension": ".py",
   "mimetype": "text/x-python",
   "name": "python",
   "nbconvert_exporter": "python",
   "pygments_lexer": "ipython3",
   "version": "3.11.5"
  },
  "orig_nbformat": 4
 },
 "nbformat": 4,
 "nbformat_minor": 2
}
