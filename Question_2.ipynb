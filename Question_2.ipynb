{
 "cells": [
  {
   "cell_type": "code",
   "execution_count": 1,
   "metadata": {},
   "outputs": [],
   "source": [
    "#QN2"
   ]
  },
  {
   "cell_type": "code",
   "execution_count": 2,
   "metadata": {},
   "outputs": [],
   "source": [
    "class UserMainCode(object):\n",
    "    @classmethod\n",
    "    def Cards(cls, input1, input2):\n",
    "        n = input1\n",
    "        arr = input2\n",
    "        s = sum(arr)\n",
    "        min_sum = cls.minSubarraySum(n, arr)\n",
    "        ans = s + min_sum * (-2)\n",
    "        return ans\n",
    "\n",
    "    @staticmethod\n",
    "    def minSubarraySum(n, a):\n",
    "        min_sum = float('inf')\n",
    "        curr_sum = 0\n",
    "        for i in range(n):\n",
    "            curr_sum = curr_sum + a[i]\n",
    "            if curr_sum < min_sum:\n",
    "                min_sum = curr_sum\n",
    "            if curr_sum > 0:\n",
    "                curr_sum = 0\n",
    "        return min_sum"
   ]
  },
  {
   "cell_type": "code",
   "execution_count": 3,
   "metadata": {},
   "outputs": [
    {
     "name": "stdout",
     "output_type": "stream",
     "text": [
      "8\n"
     ]
    }
   ],
   "source": [
    "# Example usage\n",
    "input1 = 5\n",
    "input2 = [-2, 3, -1, -4, -2]\n",
    "result = UserMainCode.Cards(input1, input2)\n",
    "print(result)  # This should print 8"
   ]
  }
 ],
 "metadata": {
  "kernelspec": {
   "display_name": "Python 3",
   "language": "python",
   "name": "python3"
  },
  "language_info": {
   "codemirror_mode": {
    "name": "ipython",
    "version": 3
   },
   "file_extension": ".py",
   "mimetype": "text/x-python",
   "name": "python",
   "nbconvert_exporter": "python",
   "pygments_lexer": "ipython3",
   "version": "3.11.5"
  },
  "orig_nbformat": 4
 },
 "nbformat": 4,
 "nbformat_minor": 2
}
