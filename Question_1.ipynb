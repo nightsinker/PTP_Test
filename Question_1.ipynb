{
 "cells": [
  {
   "cell_type": "code",
   "execution_count": 1,
   "metadata": {},
   "outputs": [],
   "source": [
    "#QN1"
   ]
  },
  {
   "cell_type": "code",
   "execution_count": 16,
   "metadata": {},
   "outputs": [],
   "source": [
    "class UserMainCode(object):\n",
    "    @classmethod\n",
    "    def evalPostfix(cls, input1):\n",
    "        stack = []\n",
    "        for char in input1:\n",
    "            if char.isdigit():\n",
    "                stack.append(int(char))\n",
    "            else:\n",
    "                operand2 = stack.pop()\n",
    "                operand1 = stack.pop()\n",
    "                if char == '+':\n",
    "                    result = operand1 + operand2\n",
    "                elif char == '-':\n",
    "                    result = operand1 - operand2\n",
    "                elif char == '*':\n",
    "                    result = operand1 * operand2\n",
    "                elif char == '/':\n",
    "                    result = operand1 // operand2\n",
    "                stack.append(result)\n",
    "        return stack[0]"
   ]
  },
  {
   "cell_type": "code",
   "execution_count": 14,
   "metadata": {},
   "outputs": [
    {
     "name": "stdout",
     "output_type": "stream",
     "text": [
      "4\n"
     ]
    }
   ],
   "source": [
    "# Example usage\n",
    "postfix_expression = \"84-\"\n",
    "result = UserMainCode.evalPostfix(postfix_expression)\n",
    "print(result)  # This should print 4"
   ]
  }
 ],
 "metadata": {
  "kernelspec": {
   "display_name": "Python 3",
   "language": "python",
   "name": "python3"
  },
  "language_info": {
   "codemirror_mode": {
    "name": "ipython",
    "version": 3
   },
   "file_extension": ".py",
   "mimetype": "text/x-python",
   "name": "python",
   "nbconvert_exporter": "python",
   "pygments_lexer": "ipython3",
   "version": "3.11.5"
  },
  "orig_nbformat": 4
 },
 "nbformat": 4,
 "nbformat_minor": 2
}
