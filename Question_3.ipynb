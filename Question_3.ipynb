{
 "cells": [
  {
   "cell_type": "code",
   "execution_count": null,
   "metadata": {},
   "outputs": [],
   "source": [
    "#Qn3"
   ]
  },
  {
   "cell_type": "code",
   "execution_count": 1,
   "metadata": {},
   "outputs": [],
   "source": [
    "class UserMainCode(object):\n",
    "    @classmethod\n",
    "    def numblays(cls, input1, input2, input3):\n",
    "        MOD = 1000000007\n",
    "        dp = [[0] * (input3 + 1) for _ in range(input2 + 1)]\n",
    "\n",
    "        for i in range(input3 + 1):\n",
    "            dp[0][i] = 0\n",
    "        dp[0][0] = 1\n",
    "\n",
    "        for i in range(1, input2 + 1):\n",
    "            for j in range(1, input3 + 1):\n",
    "                for k in range(1, min(j, input1) + 1):\n",
    "                    dp[i][j] = (dp[i][j] + dp[i - 1][j - k]) % MOD\n",
    "        return dp[input2][input3]"
   ]
  },
  {
   "cell_type": "code",
   "execution_count": 2,
   "metadata": {},
   "outputs": [
    {
     "name": "stdout",
     "output_type": "stream",
     "text": [
      "1\n"
     ]
    }
   ],
   "source": [
    "# Example usage\n",
    "m = 2\n",
    "n = 2\n",
    "X = 2\n",
    "result = UserMainCode.numblays(m, n, X)\n",
    "print(result)  # This should print 1"
   ]
  }
 ],
 "metadata": {
  "kernelspec": {
   "display_name": "Python 3",
   "language": "python",
   "name": "python3"
  },
  "language_info": {
   "codemirror_mode": {
    "name": "ipython",
    "version": 3
   },
   "file_extension": ".py",
   "mimetype": "text/x-python",
   "name": "python",
   "nbconvert_exporter": "python",
   "pygments_lexer": "ipython3",
   "version": "3.11.5"
  },
  "orig_nbformat": 4
 },
 "nbformat": 4,
 "nbformat_minor": 2
}
